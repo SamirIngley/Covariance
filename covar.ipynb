{
 "cells": [
  {
   "cell_type": "code",
   "execution_count": null,
   "metadata": {},
   "outputs": [],
   "source": [
    "$Cov(X,Y)=1/(n-1) \\sum_{i=1}^{n}(x[i] - \\bar{x})(y[i] - \\bar{y})$"
   ]
  },
  {
   "cell_type": "code",
   "execution_count": 9,
   "metadata": {},
   "outputs": [],
   "source": [
    "#mean, pos refers to which value from each list you want \n",
    "def mean_calc(data, pos):\n",
    "    sum = 0\n",
    "    for i in range(len(data)):\n",
    "        sum += data[i][pos]\n",
    "    return sum/len(data)"
   ]
  },
  {
   "cell_type": "code",
   "execution_count": 14,
   "metadata": {},
   "outputs": [],
   "source": [
    "data = [[0,1,2], [9,8,7], [7,4,3]]"
   ]
  },
  {
   "cell_type": "code",
   "execution_count": 10,
   "metadata": {},
   "outputs": [
    {
     "data": {
      "text/plain": [
       "5.333333333333333"
      ]
     },
     "execution_count": 10,
     "metadata": {},
     "output_type": "execute_result"
    }
   ],
   "source": [
    "mean_calc(data, 0)"
   ]
  },
  {
   "cell_type": "code",
   "execution_count": 11,
   "metadata": {},
   "outputs": [],
   "source": [
    "def covariance(data, pos1, pos2):\n",
    "    pos1_mean = mean_calc(data, pos1)\n",
    "    pos2_mean = mean_calc(data,pos2)\n",
    "    total = 0\n",
    "    for i in range(len(data)):\n",
    "        total += (data[i][pos1] - pos1_mean)*(data[i][pos2] - pos2_mean)\n",
    "    covar = total/(len(data) - 1)\n",
    "    return covar"
   ]
  },
  {
   "cell_type": "code",
   "execution_count": 13,
   "metadata": {},
   "outputs": [
    {
     "data": {
      "text/plain": [
       "15.333333333333334"
      ]
     },
     "execution_count": 13,
     "metadata": {},
     "output_type": "execute_result"
    }
   ],
   "source": [
    "covariance(data, 0, 1)"
   ]
  },
  {
   "cell_type": "code",
   "execution_count": 1,
   "metadata": {},
   "outputs": [
    {
     "ename": "SyntaxError",
     "evalue": "unexpected EOF while parsing (<ipython-input-1-659f8dd5f249>, line 34)",
     "output_type": "error",
     "traceback": [
      "\u001b[0;36m  File \u001b[0;32m\"<ipython-input-1-659f8dd5f249>\"\u001b[0;36m, line \u001b[0;32m34\u001b[0m\n\u001b[0;31m    \u001b[0m\n\u001b[0m    ^\u001b[0m\n\u001b[0;31mSyntaxError\u001b[0m\u001b[0;31m:\u001b[0m unexpected EOF while parsing\n"
     ]
    }
   ],
   "source": [
    "def matrix(data):\n",
    "    ''' \n",
    "    Calculates a covariance matrix of the data\n",
    "    '''\n",
    "    row = []\n",
    "    for i in range(len(data[0])):\n",
    "        row.append(covariance(data, pos1, pos2))\n",
    "        \n",
    "    matrix = np.empty((0, len(data[0])), int)\n",
    "    \n",
    "    for i in range(len(data[0])):\n",
    "        row = matrix_row(data, i)\n",
    "        matrix = np.append(matrix, np.array([row]), axis=0)\n",
    "    \n",
    "    cov_matx = np.cov(data.T)\n",
    "    \n",
    "    return matrix\n",
    "\n",
    "def cov_matrix_calculation(data):\n",
    "    # calculate covariance matrix of the data\n",
    "    cov_matx = np.cov(data.T)\n",
    "    return cov_matx\n",
    "\n",
    "dataset = np.array([[1, 1, 1], [1, 2, 1], [1, 3, 2], [1, 4, 3]])\n",
    "print(cov_matrix_calculation(dataset))\n",
    "\n",
    "if __name__ == '__main__':\n",
    "    df = pd.read_csv('daily_show_guests.csv')\n",
    "    df_get = df[['YEAR', 'GoogleKnowledge_Occupation', 'Show', 'Group', 'Raw_Guest_List']]\n",
    "    data = df_get.to_numpy()\n",
    "    test_data = np.array([[1, 1, 1], [1, 2, 1], [1, 3, 2], [1, 4, 3]])\n",
    "\n",
    "    print(matrix(data)\n",
    "    \n",
    "          "
   ]
  },
  {
   "cell_type": "code",
   "execution_count": null,
   "metadata": {},
   "outputs": [],
   "source": [
    "def pearson_corr(x, y):\n",
    "    x_mean = np.mean(x)\n",
    "    y_mean = np.mean(y)\n",
    "    num = [(i - x_mean)*(j - y_mean) for i,j in zip(x,y)]\n",
    "    den_1 = [(i - x_mean)**2 for i in x]\n",
    "    den_2 = [(j - y_mean)**2 for j in y]\n",
    "    correlation_x_y = np.sum(num)/np.sqrt(np.sum(den_1))/np.sqrt(np.sum(den_2))\n",
    "    return correlation_x_y"
   ]
  }
 ],
 "metadata": {
  "kernelspec": {
   "display_name": "Python 3",
   "language": "python",
   "name": "python3"
  },
  "language_info": {
   "codemirror_mode": {
    "name": "ipython",
    "version": 3
   },
   "file_extension": ".py",
   "mimetype": "text/x-python",
   "name": "python",
   "nbconvert_exporter": "python",
   "pygments_lexer": "ipython3",
   "version": "3.7.4"
  }
 },
 "nbformat": 4,
 "nbformat_minor": 2
}
